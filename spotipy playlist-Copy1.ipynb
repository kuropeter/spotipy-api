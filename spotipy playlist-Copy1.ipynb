{
 "cells": [
  {
   "cell_type": "markdown",
   "metadata": {},
   "source": [
    "# Spotify Playlist Extraction via Spotipy API"
   ]
  },
  {
   "cell_type": "markdown",
   "metadata": {},
   "source": [
    "### Data extraction"
   ]
  },
  {
   "cell_type": "markdown",
   "metadata": {},
   "source": [
    "### Requirements for the projects\n",
    "1. Internet Access\n",
    "2. Spotify  Account\n",
    "2. Spotify Developer Account\n",
    "3. Spotify Playlist"
   ]
  },
  {
   "cell_type": "markdown",
   "metadata": {},
   "source": [
    "#### Steps in project\n",
    "1. Gaining Access to Spotify live data\n",
    "2. Collecting data\n",
    "3. Data Preprocessing and EDA"
   ]
  },
  {
   "cell_type": "markdown",
   "metadata": {},
   "source": [
    "### Step 1. Gaining Access to Spotify Server"
   ]
  },
  {
   "cell_type": "code",
   "execution_count": 89,
   "metadata": {
    "tags": []
   },
   "outputs": [],
   "source": [
    "# !pip install spotipy"
   ]
  },
  {
   "cell_type": "code",
   "execution_count": 90,
   "metadata": {},
   "outputs": [],
   "source": [
    "import requests\n",
    "import base64\n",
    "\n",
    "import spotipy\n",
    "from spotipy.oauth2 import SpotifyOAuth\n",
    "import pandas as pd\n",
    "\n",
    "import numpy as np\n",
    "import matplotlib.pyplot as plt\n",
    "import seaborn as sns"
   ]
  },
  {
   "cell_type": "code",
   "execution_count": 91,
   "metadata": {},
   "outputs": [
    {
     "name": "stdout",
     "output_type": "stream",
     "text": [
      "Access token obtained successfully.\n"
     ]
    }
   ],
   "source": [
    "# Inputting Credentials\n",
    "CLIENT_ID = '59446ee9cb6247218110e06c9b331902'\n",
    "CLIENT_SECRET = '38b6583176f547cf9a677610406ac6be'\n",
    "\n",
    "# Base64 encode the client ID and client secret\n",
    "client_credentials = f\"{CLIENT_ID}:{CLIENT_SECRET}\" # Combining the two user credentials\n",
    "client_credentials_base64 = base64.b64encode(client_credentials.encode())\n",
    "\n",
    "# Request the access token\n",
    "token_url = 'https://accounts.spotify.com/api/token'\n",
    "headers = {\n",
    "    'Authorization': f'Basic {client_credentials_base64.decode()}'\n",
    "}\n",
    "data = {\n",
    "    'grant_type': 'client_credentials'\n",
    "}\n",
    "response = requests.post(token_url, data=data, headers=headers)\n",
    "\n",
    "if response.status_code == 200:\n",
    "    access_token = response.json()['access_token']\n",
    "    print(\"Access token obtained successfully.\")\n",
    "else:\n",
    "    print(\"Error obtaining access token.\")\n",
    "    exit()"
   ]
  },
  {
   "cell_type": "markdown",
   "metadata": {},
   "source": [
    "### Step 2. Collect Data From Playlist"
   ]
  },
  {
   "cell_type": "code",
   "execution_count": null,
   "metadata": {},
   "outputs": [],
   "source": []
  },
  {
   "cell_type": "code",
   "execution_count": 92,
   "metadata": {},
   "outputs": [],
   "source": [
    "# Initializing Spotipy with the access token\n",
    "sp = spotipy.Spotify(auth=access_token)"
   ]
  },
  {
   "cell_type": "markdown",
   "metadata": {},
   "source": [
    "#### Data I want to collect from API\n",
    "'Track Name', 'Artists', 'Album Name', 'Album ID', 'Track ID',\n",
    "       'Popularity', 'Release Date', 'Duration (ms)', 'Explicit',\n",
    "       'External URLs', 'Danceability', 'Energy', 'Key', 'Loudness', 'Mode',\n",
    "       'Speechiness', 'Acousticness', 'Instrumentalness', 'Liveness',\n",
    "       'Valence', 'Tempo'"
   ]
  },
  {
   "cell_type": "code",
   "execution_count": 93,
   "metadata": {},
   "outputs": [],
   "source": [
    "# dir(sp)"
   ]
  },
  {
   "cell_type": "code",
   "execution_count": 94,
   "metadata": {},
   "outputs": [],
   "source": [
    "# sp.playlist_tracks('5FCfw4WmPVuyLiHy8c1nm3')['items'][0]['track']['name'] #track details\n",
    "# sp.playlist_tracks('5FCfw4WmPVuyLiHy8c1nm3')['items'][0]['track']['album']['name'] #album_name"
   ]
  },
  {
   "cell_type": "code",
   "execution_count": 95,
   "metadata": {},
   "outputs": [],
   "source": [
    "# sp.playlist_items(playlist_id='5FCfw4WmPVuyLiHy8c1nm3')['items'][0]['track']['artists'][0] # Artist Details\n",
    "# sp.playlist_items(playlist_id='5FCfw4WmPVuyLiHy8c1nm3')['items'][0]['track']['artists'][0]['name'] # artist_name\n",
    "# sp.playlist_items(playlist_id='5FCfw4WmPVuyLiHy8c1nm3')['items'][0]['track']['artists'][0]['id'] # artist_id\n",
    "# sp.playlist_items(playlist_id='5FCfw4WmPVuyLiHy8c1nm3')['items'][0]['track']['id'] # Song Id\n",
    "# sp.playlist_items(playlist_id='5FCfw4WmPVuyLiHy8c1nm3')['items'][0]['track']['name'] # SOng Name\n",
    "# sp.playlist_items(playlist_id='5FCfw4WmPVuyLiHy8c1nm3')['items'][0]['track']['album']['name'] # album name"
   ]
  },
  {
   "cell_type": "code",
   "execution_count": 96,
   "metadata": {},
   "outputs": [],
   "source": [
    "# Song Characteristics\n",
    "# playlist['items'][0]['track']['popularity']\n",
    "# playlist['items'][0]['track']['explicit']\n",
    "# playlist['items'][0]['track']['duration_ms']"
   ]
  },
  {
   "cell_type": "code",
   "execution_count": 97,
   "metadata": {},
   "outputs": [],
   "source": [
    "playlist_songs = sp.playlist_items(playlist_id='5FCfw4WmPVuyLiHy8c1nm3')"
   ]
  },
  {
   "cell_type": "code",
   "execution_count": 98,
   "metadata": {},
   "outputs": [],
   "source": [
    "# Collecting Details on Songs\n",
    "def playlist_data(playlist_id, access_token):\n",
    "    \"\"\"Input your Spotify playlist ID and get the details of the songs in playlist   \\n\n",
    "        playlist_id: A str that is a spotify playlist Id \\n\n",
    "    \"\"\"\n",
    "    \n",
    "#     playlist_id=input('put your playlist id here:')\n",
    "    # Get the tracks from the playlist\n",
    "    playlist_songs = sp.playlist_items(playlist_id)    \n",
    "    song_details = []\n",
    "    \n",
    "    for item in playlist_songs['items']:    \n",
    "        artist = item['track']['artists'][0]['name']\n",
    "        artist_id = item['track']['artists'][0]['id']\n",
    "        song_name = item['track']['name']\n",
    "        album_name = item['track']['album']['name']\n",
    "        song_id = item['track']['id']\n",
    "        release_date = item['track']['album']['release_date']\n",
    "        popularity = item['track']['popularity']\n",
    "        explicit = item['track']['explicit']\n",
    "        duration = item['track']['duration_ms']\n",
    "\n",
    "        # Collecting data for song audio features\n",
    "        audio_features = sp.audio_features(song_id)    \n",
    "        key = audio_features[0]['key']\n",
    "        dance = audio_features[0]['danceability']\n",
    "        energy = audio_features[0]['energy']\n",
    "        loud = audio_features[0]['loudness']\n",
    "        mode = audio_features[0]['mode']\n",
    "        speech = audio_features[0]['speechiness']\n",
    "        acoustic = audio_features[0]['acousticness']\n",
    "        instrument = audio_features[0]['instrumentalness']\n",
    "        liveness = audio_features[0]['liveness']\n",
    "        valence = audio_features[0]['valence']\n",
    "        tempo = audio_features[0]['tempo']\n",
    "\n",
    "        # Putting data in dictionary\n",
    "        track_data = {'song_name':song_name,\n",
    "                    'artist':artist,\n",
    "                    'album':album_name,\n",
    "                    'artist_id':artist_id,\n",
    "                    'song_id':song_id,\n",
    "                    'popularity':popularity,\n",
    "                    'explicit':explicit,\n",
    "                    'duration':duration,\n",
    "                    'key':key,\n",
    "                    'danceability':dance,\n",
    "                    'energy':energy,\n",
    "                    'loudness':loud,\n",
    "                    'mode':mode,\n",
    "                    'speechiness':speech,\n",
    "                    'acousticness':acoustic,\n",
    "                    'instrumentalness':instrument,\n",
    "                    'liveness':liveness,\n",
    "                    'valence':valence,\n",
    "                    'tempo':tempo,\n",
    "                    'release_date':release_date\n",
    "                     }\n",
    "\n",
    "        # appending dictionary to list\n",
    "        song_details.append(track_data)\n",
    "\n",
    "        # creating DataFrame from dictionary\n",
    "    df = pd.DataFrame(song_details)\n",
    "    df['release_date'] = pd.to_datetime(df['release_date'])\n",
    "    df['release_year'] = df['release_date'].dt.year\n",
    "    return df\n",
    "    \n",
    "# df.sample(5)"
   ]
  },
  {
   "cell_type": "code",
   "execution_count": 99,
   "metadata": {},
   "outputs": [],
   "source": [
    "# Addidng Playlist and Running Function\n",
    "playlist_id = '46iQn1DHoYNlHwBIOnfAxi' # Apple music top 100 nigerian songs (9 August 2024)\n",
    "df = playlist_data(playlist_id, access_token)"
   ]
  },
  {
   "cell_type": "code",
   "execution_count": 100,
   "metadata": {},
   "outputs": [
    {
     "data": {
      "text/html": [
       "<div>\n",
       "<style scoped>\n",
       "    .dataframe tbody tr th:only-of-type {\n",
       "        vertical-align: middle;\n",
       "    }\n",
       "\n",
       "    .dataframe tbody tr th {\n",
       "        vertical-align: top;\n",
       "    }\n",
       "\n",
       "    .dataframe thead th {\n",
       "        text-align: right;\n",
       "    }\n",
       "</style>\n",
       "<table border=\"1\" class=\"dataframe\">\n",
       "  <thead>\n",
       "    <tr style=\"text-align: right;\">\n",
       "      <th></th>\n",
       "      <th>song_name</th>\n",
       "      <th>artist</th>\n",
       "      <th>album</th>\n",
       "      <th>artist_id</th>\n",
       "      <th>song_id</th>\n",
       "      <th>popularity</th>\n",
       "      <th>explicit</th>\n",
       "      <th>duration</th>\n",
       "      <th>key</th>\n",
       "      <th>danceability</th>\n",
       "      <th>...</th>\n",
       "      <th>loudness</th>\n",
       "      <th>mode</th>\n",
       "      <th>speechiness</th>\n",
       "      <th>acousticness</th>\n",
       "      <th>instrumentalness</th>\n",
       "      <th>liveness</th>\n",
       "      <th>valence</th>\n",
       "      <th>tempo</th>\n",
       "      <th>release_date</th>\n",
       "      <th>release_year</th>\n",
       "    </tr>\n",
       "  </thead>\n",
       "  <tbody>\n",
       "    <tr>\n",
       "      <th>0</th>\n",
       "      <td>MMS</td>\n",
       "      <td>Asake</td>\n",
       "      <td>Lungu Boy</td>\n",
       "      <td>3a1tBryiczPAZpgoZN9Rzg</td>\n",
       "      <td>13VXuHw3O8Yt7VwRIDqSo4</td>\n",
       "      <td>69</td>\n",
       "      <td>False</td>\n",
       "      <td>219628</td>\n",
       "      <td>8</td>\n",
       "      <td>0.502</td>\n",
       "      <td>...</td>\n",
       "      <td>-3.367</td>\n",
       "      <td>0</td>\n",
       "      <td>0.1440</td>\n",
       "      <td>0.67700</td>\n",
       "      <td>0.034100</td>\n",
       "      <td>0.1880</td>\n",
       "      <td>0.645</td>\n",
       "      <td>101.837</td>\n",
       "      <td>2024-08-08</td>\n",
       "      <td>2024</td>\n",
       "    </tr>\n",
       "    <tr>\n",
       "      <th>1</th>\n",
       "      <td>Active</td>\n",
       "      <td>Asake</td>\n",
       "      <td>Active</td>\n",
       "      <td>3a1tBryiczPAZpgoZN9Rzg</td>\n",
       "      <td>2TOk5OzW5sL83ndKYZJmU7</td>\n",
       "      <td>74</td>\n",
       "      <td>True</td>\n",
       "      <td>172597</td>\n",
       "      <td>1</td>\n",
       "      <td>0.901</td>\n",
       "      <td>...</td>\n",
       "      <td>-10.503</td>\n",
       "      <td>1</td>\n",
       "      <td>0.0515</td>\n",
       "      <td>0.00387</td>\n",
       "      <td>0.000154</td>\n",
       "      <td>0.0571</td>\n",
       "      <td>0.507</td>\n",
       "      <td>112.999</td>\n",
       "      <td>2024-08-06</td>\n",
       "      <td>2024</td>\n",
       "    </tr>\n",
       "    <tr>\n",
       "      <th>2</th>\n",
       "      <td>Mood</td>\n",
       "      <td>Asake</td>\n",
       "      <td>Lungu Boy</td>\n",
       "      <td>3a1tBryiczPAZpgoZN9Rzg</td>\n",
       "      <td>5obTyAhp9xms15FjibgrBy</td>\n",
       "      <td>64</td>\n",
       "      <td>False</td>\n",
       "      <td>171385</td>\n",
       "      <td>5</td>\n",
       "      <td>0.707</td>\n",
       "      <td>...</td>\n",
       "      <td>-7.687</td>\n",
       "      <td>0</td>\n",
       "      <td>0.0792</td>\n",
       "      <td>0.62300</td>\n",
       "      <td>0.137000</td>\n",
       "      <td>0.1070</td>\n",
       "      <td>0.700</td>\n",
       "      <td>113.977</td>\n",
       "      <td>2024-08-08</td>\n",
       "      <td>2024</td>\n",
       "    </tr>\n",
       "    <tr>\n",
       "      <th>3</th>\n",
       "      <td>Fuji Vibe</td>\n",
       "      <td>Asake</td>\n",
       "      <td>Lungu Boy</td>\n",
       "      <td>3a1tBryiczPAZpgoZN9Rzg</td>\n",
       "      <td>2WHM3orrvvqziSkG0xp8sy</td>\n",
       "      <td>63</td>\n",
       "      <td>False</td>\n",
       "      <td>322209</td>\n",
       "      <td>1</td>\n",
       "      <td>0.503</td>\n",
       "      <td>...</td>\n",
       "      <td>-5.228</td>\n",
       "      <td>1</td>\n",
       "      <td>0.0693</td>\n",
       "      <td>0.02200</td>\n",
       "      <td>0.053300</td>\n",
       "      <td>0.0626</td>\n",
       "      <td>0.746</td>\n",
       "      <td>127.904</td>\n",
       "      <td>2024-08-08</td>\n",
       "      <td>2024</td>\n",
       "    </tr>\n",
       "    <tr>\n",
       "      <th>4</th>\n",
       "      <td>Suru (feat. Stormzy)</td>\n",
       "      <td>Asake</td>\n",
       "      <td>Lungu Boy</td>\n",
       "      <td>3a1tBryiczPAZpgoZN9Rzg</td>\n",
       "      <td>25KjMlA0KAwRKS9JuT1NSq</td>\n",
       "      <td>63</td>\n",
       "      <td>False</td>\n",
       "      <td>220134</td>\n",
       "      <td>1</td>\n",
       "      <td>0.763</td>\n",
       "      <td>...</td>\n",
       "      <td>-5.538</td>\n",
       "      <td>1</td>\n",
       "      <td>0.0761</td>\n",
       "      <td>0.25600</td>\n",
       "      <td>0.000463</td>\n",
       "      <td>0.1900</td>\n",
       "      <td>0.592</td>\n",
       "      <td>115.099</td>\n",
       "      <td>2024-08-08</td>\n",
       "      <td>2024</td>\n",
       "    </tr>\n",
       "  </tbody>\n",
       "</table>\n",
       "<p>5 rows × 21 columns</p>\n",
       "</div>"
      ],
      "text/plain": [
       "              song_name artist      album               artist_id  \\\n",
       "0                   MMS  Asake  Lungu Boy  3a1tBryiczPAZpgoZN9Rzg   \n",
       "1                Active  Asake     Active  3a1tBryiczPAZpgoZN9Rzg   \n",
       "2                  Mood  Asake  Lungu Boy  3a1tBryiczPAZpgoZN9Rzg   \n",
       "3             Fuji Vibe  Asake  Lungu Boy  3a1tBryiczPAZpgoZN9Rzg   \n",
       "4  Suru (feat. Stormzy)  Asake  Lungu Boy  3a1tBryiczPAZpgoZN9Rzg   \n",
       "\n",
       "                  song_id  popularity  explicit  duration  key  danceability  \\\n",
       "0  13VXuHw3O8Yt7VwRIDqSo4          69     False    219628    8         0.502   \n",
       "1  2TOk5OzW5sL83ndKYZJmU7          74      True    172597    1         0.901   \n",
       "2  5obTyAhp9xms15FjibgrBy          64     False    171385    5         0.707   \n",
       "3  2WHM3orrvvqziSkG0xp8sy          63     False    322209    1         0.503   \n",
       "4  25KjMlA0KAwRKS9JuT1NSq          63     False    220134    1         0.763   \n",
       "\n",
       "   ...  loudness  mode  speechiness  acousticness  instrumentalness  liveness  \\\n",
       "0  ...    -3.367     0       0.1440       0.67700          0.034100    0.1880   \n",
       "1  ...   -10.503     1       0.0515       0.00387          0.000154    0.0571   \n",
       "2  ...    -7.687     0       0.0792       0.62300          0.137000    0.1070   \n",
       "3  ...    -5.228     1       0.0693       0.02200          0.053300    0.0626   \n",
       "4  ...    -5.538     1       0.0761       0.25600          0.000463    0.1900   \n",
       "\n",
       "   valence    tempo  release_date release_year  \n",
       "0    0.645  101.837    2024-08-08         2024  \n",
       "1    0.507  112.999    2024-08-06         2024  \n",
       "2    0.700  113.977    2024-08-08         2024  \n",
       "3    0.746  127.904    2024-08-08         2024  \n",
       "4    0.592  115.099    2024-08-08         2024  \n",
       "\n",
       "[5 rows x 21 columns]"
      ]
     },
     "execution_count": 100,
     "metadata": {},
     "output_type": "execute_result"
    }
   ],
   "source": [
    "# Viewing First 5 rows \n",
    "df.head()"
   ]
  },
  {
   "cell_type": "code",
   "execution_count": 101,
   "metadata": {},
   "outputs": [
    {
     "data": {
      "text/plain": [
       "0"
      ]
     },
     "execution_count": 101,
     "metadata": {},
     "output_type": "execute_result"
    }
   ],
   "source": [
    "# Checking for Missing Values\n",
    "df.isna().sum().sum()"
   ]
  },
  {
   "cell_type": "code",
   "execution_count": 102,
   "metadata": {},
   "outputs": [
    {
     "data": {
      "text/plain": [
       "0"
      ]
     },
     "execution_count": 102,
     "metadata": {},
     "output_type": "execute_result"
    }
   ],
   "source": [
    "df.duplicated().sum()"
   ]
  },
  {
   "cell_type": "code",
   "execution_count": 103,
   "metadata": {},
   "outputs": [
    {
     "data": {
      "text/plain": [
       "3"
      ]
     },
     "execution_count": 103,
     "metadata": {},
     "output_type": "execute_result"
    }
   ],
   "source": [
    "# Conveeting Duration from ms to mins\n",
    "df['duration'] =round(df['duration'] / (1000*60))\n",
    "df['duration'].astype(int)[1]"
   ]
  },
  {
   "cell_type": "code",
   "execution_count": 104,
   "metadata": {
    "tags": []
   },
   "outputs": [
    {
     "name": "stdout",
     "output_type": "stream",
     "text": [
      "<class 'pandas.core.frame.DataFrame'>\n",
      "RangeIndex: 100 entries, 0 to 99\n",
      "Data columns (total 21 columns):\n",
      " #   Column            Non-Null Count  Dtype         \n",
      "---  ------            --------------  -----         \n",
      " 0   song_name         100 non-null    object        \n",
      " 1   artist            100 non-null    object        \n",
      " 2   album             100 non-null    object        \n",
      " 3   artist_id         100 non-null    object        \n",
      " 4   song_id           100 non-null    object        \n",
      " 5   popularity        100 non-null    int64         \n",
      " 6   explicit          100 non-null    bool          \n",
      " 7   duration          100 non-null    float64       \n",
      " 8   key               100 non-null    int64         \n",
      " 9   danceability      100 non-null    float64       \n",
      " 10  energy            100 non-null    float64       \n",
      " 11  loudness          100 non-null    float64       \n",
      " 12  mode              100 non-null    int64         \n",
      " 13  speechiness       100 non-null    float64       \n",
      " 14  acousticness      100 non-null    float64       \n",
      " 15  instrumentalness  100 non-null    float64       \n",
      " 16  liveness          100 non-null    float64       \n",
      " 17  valence           100 non-null    float64       \n",
      " 18  tempo             100 non-null    float64       \n",
      " 19  release_date      100 non-null    datetime64[ns]\n",
      " 20  release_year      100 non-null    int32         \n",
      "dtypes: bool(1), datetime64[ns](1), float64(10), int32(1), int64(3), object(5)\n",
      "memory usage: 15.5+ KB\n"
     ]
    }
   ],
   "source": [
    "df.info()"
   ]
  },
  {
   "cell_type": "code",
   "execution_count": 105,
   "metadata": {
    "tags": []
   },
   "outputs": [
    {
     "name": "stdout",
     "output_type": "stream",
     "text": [
      "<class 'pandas.core.series.Series'>\n",
      "RangeIndex: 100 entries, 0 to 99\n",
      "Series name: release_date\n",
      "Non-Null Count  Dtype         \n",
      "--------------  -----         \n",
      "100 non-null    datetime64[ns]\n",
      "dtypes: datetime64[ns](1)\n",
      "memory usage: 932.0 bytes\n"
     ]
    }
   ],
   "source": [
    "# Converting Release_date to datetime dtype\n",
    "df['release_date'] = pd.to_datetime(df['release_date'])\n",
    "df['release_date'].info()"
   ]
  },
  {
   "cell_type": "code",
   "execution_count": 106,
   "metadata": {
    "tags": []
   },
   "outputs": [],
   "source": [
    "# Saving Playlist as .csv\n",
    "df.to_csv('data.csv')"
   ]
  },
  {
   "cell_type": "code",
   "execution_count": 107,
   "metadata": {},
   "outputs": [
    {
     "data": {
      "text/html": [
       "<div>\n",
       "<style scoped>\n",
       "    .dataframe tbody tr th:only-of-type {\n",
       "        vertical-align: middle;\n",
       "    }\n",
       "\n",
       "    .dataframe tbody tr th {\n",
       "        vertical-align: top;\n",
       "    }\n",
       "\n",
       "    .dataframe thead th {\n",
       "        text-align: right;\n",
       "    }\n",
       "</style>\n",
       "<table border=\"1\" class=\"dataframe\">\n",
       "  <thead>\n",
       "    <tr style=\"text-align: right;\">\n",
       "      <th></th>\n",
       "      <th>song_name</th>\n",
       "      <th>artist</th>\n",
       "      <th>album</th>\n",
       "      <th>artist_id</th>\n",
       "      <th>song_id</th>\n",
       "      <th>popularity</th>\n",
       "      <th>explicit</th>\n",
       "      <th>duration</th>\n",
       "      <th>key</th>\n",
       "      <th>danceability</th>\n",
       "      <th>...</th>\n",
       "      <th>loudness</th>\n",
       "      <th>mode</th>\n",
       "      <th>speechiness</th>\n",
       "      <th>acousticness</th>\n",
       "      <th>instrumentalness</th>\n",
       "      <th>liveness</th>\n",
       "      <th>valence</th>\n",
       "      <th>tempo</th>\n",
       "      <th>release_date</th>\n",
       "      <th>release_year</th>\n",
       "    </tr>\n",
       "  </thead>\n",
       "  <tbody>\n",
       "    <tr>\n",
       "      <th>0</th>\n",
       "      <td>MMS</td>\n",
       "      <td>Asake</td>\n",
       "      <td>Lungu Boy</td>\n",
       "      <td>3a1tBryiczPAZpgoZN9Rzg</td>\n",
       "      <td>13VXuHw3O8Yt7VwRIDqSo4</td>\n",
       "      <td>69</td>\n",
       "      <td>False</td>\n",
       "      <td>4.0</td>\n",
       "      <td>8</td>\n",
       "      <td>0.502</td>\n",
       "      <td>...</td>\n",
       "      <td>-3.367</td>\n",
       "      <td>0</td>\n",
       "      <td>0.144</td>\n",
       "      <td>0.677</td>\n",
       "      <td>0.0341</td>\n",
       "      <td>0.188</td>\n",
       "      <td>0.645</td>\n",
       "      <td>101.837</td>\n",
       "      <td>2024-08-08</td>\n",
       "      <td>2024</td>\n",
       "    </tr>\n",
       "  </tbody>\n",
       "</table>\n",
       "<p>1 rows × 21 columns</p>\n",
       "</div>"
      ],
      "text/plain": [
       "  song_name artist      album               artist_id                 song_id  \\\n",
       "0       MMS  Asake  Lungu Boy  3a1tBryiczPAZpgoZN9Rzg  13VXuHw3O8Yt7VwRIDqSo4   \n",
       "\n",
       "   popularity  explicit  duration  key  danceability  ...  loudness  mode  \\\n",
       "0          69     False       4.0    8         0.502  ...    -3.367     0   \n",
       "\n",
       "   speechiness  acousticness  instrumentalness  liveness  valence    tempo  \\\n",
       "0        0.144         0.677            0.0341     0.188    0.645  101.837   \n",
       "\n",
       "   release_date release_year  \n",
       "0    2024-08-08         2024  \n",
       "\n",
       "[1 rows x 21 columns]"
      ]
     },
     "execution_count": 107,
     "metadata": {},
     "output_type": "execute_result"
    }
   ],
   "source": [
    "# Making copy\n",
    "df_copy = df.copy()\n",
    "df_copy.head(1)"
   ]
  },
  {
   "cell_type": "markdown",
   "metadata": {},
   "source": [
    "### Exploratory Data Analysis"
   ]
  },
  {
   "cell_type": "code",
   "execution_count": 108,
   "metadata": {},
   "outputs": [
    {
     "data": {
      "text/html": [
       "<div>\n",
       "<style scoped>\n",
       "    .dataframe tbody tr th:only-of-type {\n",
       "        vertical-align: middle;\n",
       "    }\n",
       "\n",
       "    .dataframe tbody tr th {\n",
       "        vertical-align: top;\n",
       "    }\n",
       "\n",
       "    .dataframe thead th {\n",
       "        text-align: right;\n",
       "    }\n",
       "</style>\n",
       "<table border=\"1\" class=\"dataframe\">\n",
       "  <thead>\n",
       "    <tr style=\"text-align: right;\">\n",
       "      <th></th>\n",
       "      <th>artist</th>\n",
       "      <th>count</th>\n",
       "    </tr>\n",
       "  </thead>\n",
       "  <tbody>\n",
       "    <tr>\n",
       "      <th>0</th>\n",
       "      <td>Asake</td>\n",
       "      <td>17</td>\n",
       "    </tr>\n",
       "    <tr>\n",
       "      <th>1</th>\n",
       "      <td>Rema</td>\n",
       "      <td>11</td>\n",
       "    </tr>\n",
       "    <tr>\n",
       "      <th>2</th>\n",
       "      <td>Burna Boy</td>\n",
       "      <td>10</td>\n",
       "    </tr>\n",
       "    <tr>\n",
       "      <th>3</th>\n",
       "      <td>Seyi Vibez</td>\n",
       "      <td>10</td>\n",
       "    </tr>\n",
       "    <tr>\n",
       "      <th>4</th>\n",
       "      <td>Olamide</td>\n",
       "      <td>6</td>\n",
       "    </tr>\n",
       "    <tr>\n",
       "      <th>5</th>\n",
       "      <td>Tml Vibez</td>\n",
       "      <td>4</td>\n",
       "    </tr>\n",
       "    <tr>\n",
       "      <th>6</th>\n",
       "      <td>Ruger</td>\n",
       "      <td>3</td>\n",
       "    </tr>\n",
       "    <tr>\n",
       "      <th>7</th>\n",
       "      <td>Young Jonn</td>\n",
       "      <td>3</td>\n",
       "    </tr>\n",
       "    <tr>\n",
       "      <th>8</th>\n",
       "      <td>Omah Lay</td>\n",
       "      <td>2</td>\n",
       "    </tr>\n",
       "    <tr>\n",
       "      <th>9</th>\n",
       "      <td>Davido</td>\n",
       "      <td>2</td>\n",
       "    </tr>\n",
       "    <tr>\n",
       "      <th>10</th>\n",
       "      <td>Victony</td>\n",
       "      <td>2</td>\n",
       "    </tr>\n",
       "    <tr>\n",
       "      <th>11</th>\n",
       "      <td>KAESTYLE</td>\n",
       "      <td>2</td>\n",
       "    </tr>\n",
       "    <tr>\n",
       "      <th>12</th>\n",
       "      <td>Dremo</td>\n",
       "      <td>1</td>\n",
       "    </tr>\n",
       "    <tr>\n",
       "      <th>13</th>\n",
       "      <td>nezsa</td>\n",
       "      <td>1</td>\n",
       "    </tr>\n",
       "    <tr>\n",
       "      <th>14</th>\n",
       "      <td>Tems</td>\n",
       "      <td>1</td>\n",
       "    </tr>\n",
       "    <tr>\n",
       "      <th>15</th>\n",
       "      <td>Shallipopi</td>\n",
       "      <td>1</td>\n",
       "    </tr>\n",
       "    <tr>\n",
       "      <th>16</th>\n",
       "      <td>Joeboy</td>\n",
       "      <td>1</td>\n",
       "    </tr>\n",
       "    <tr>\n",
       "      <th>17</th>\n",
       "      <td>Chandler Moore</td>\n",
       "      <td>1</td>\n",
       "    </tr>\n",
       "    <tr>\n",
       "      <th>18</th>\n",
       "      <td>Wizkid</td>\n",
       "      <td>1</td>\n",
       "    </tr>\n",
       "    <tr>\n",
       "      <th>19</th>\n",
       "      <td>Vibez Inc</td>\n",
       "      <td>1</td>\n",
       "    </tr>\n",
       "    <tr>\n",
       "      <th>20</th>\n",
       "      <td>Duncan Daniels</td>\n",
       "      <td>1</td>\n",
       "    </tr>\n",
       "    <tr>\n",
       "      <th>21</th>\n",
       "      <td>Eli Jae</td>\n",
       "      <td>1</td>\n",
       "    </tr>\n",
       "    <tr>\n",
       "      <th>22</th>\n",
       "      <td>Khaid</td>\n",
       "      <td>1</td>\n",
       "    </tr>\n",
       "    <tr>\n",
       "      <th>23</th>\n",
       "      <td>Fireboy DML</td>\n",
       "      <td>1</td>\n",
       "    </tr>\n",
       "    <tr>\n",
       "      <th>24</th>\n",
       "      <td>ODUMODUBLVCK</td>\n",
       "      <td>1</td>\n",
       "    </tr>\n",
       "    <tr>\n",
       "      <th>25</th>\n",
       "      <td>Darkoo</td>\n",
       "      <td>1</td>\n",
       "    </tr>\n",
       "    <tr>\n",
       "      <th>26</th>\n",
       "      <td>JeffreyBenson</td>\n",
       "      <td>1</td>\n",
       "    </tr>\n",
       "    <tr>\n",
       "      <th>27</th>\n",
       "      <td>Ayra Starr</td>\n",
       "      <td>1</td>\n",
       "    </tr>\n",
       "    <tr>\n",
       "      <th>28</th>\n",
       "      <td>Muyeez</td>\n",
       "      <td>1</td>\n",
       "    </tr>\n",
       "    <tr>\n",
       "      <th>29</th>\n",
       "      <td>TitoM</td>\n",
       "      <td>1</td>\n",
       "    </tr>\n",
       "    <tr>\n",
       "      <th>30</th>\n",
       "      <td>Jeriq</td>\n",
       "      <td>1</td>\n",
       "    </tr>\n",
       "    <tr>\n",
       "      <th>31</th>\n",
       "      <td>BoyPee</td>\n",
       "      <td>1</td>\n",
       "    </tr>\n",
       "    <tr>\n",
       "      <th>32</th>\n",
       "      <td>Vokulz</td>\n",
       "      <td>1</td>\n",
       "    </tr>\n",
       "    <tr>\n",
       "      <th>33</th>\n",
       "      <td>Iyanya</td>\n",
       "      <td>1</td>\n",
       "    </tr>\n",
       "    <tr>\n",
       "      <th>34</th>\n",
       "      <td>DJ Tunez</td>\n",
       "      <td>1</td>\n",
       "    </tr>\n",
       "    <tr>\n",
       "      <th>35</th>\n",
       "      <td>Ayo Maff</td>\n",
       "      <td>1</td>\n",
       "    </tr>\n",
       "    <tr>\n",
       "      <th>36</th>\n",
       "      <td>Rayvanny</td>\n",
       "      <td>1</td>\n",
       "    </tr>\n",
       "    <tr>\n",
       "      <th>37</th>\n",
       "      <td>DJ 808</td>\n",
       "      <td>1</td>\n",
       "    </tr>\n",
       "    <tr>\n",
       "      <th>38</th>\n",
       "      <td>Kenduu</td>\n",
       "      <td>1</td>\n",
       "    </tr>\n",
       "    <tr>\n",
       "      <th>39</th>\n",
       "      <td>SPINALL</td>\n",
       "      <td>1</td>\n",
       "    </tr>\n",
       "  </tbody>\n",
       "</table>\n",
       "</div>"
      ],
      "text/plain": [
       "            artist  count\n",
       "0            Asake     17\n",
       "1             Rema     11\n",
       "2        Burna Boy     10\n",
       "3       Seyi Vibez     10\n",
       "4          Olamide      6\n",
       "5        Tml Vibez      4\n",
       "6            Ruger      3\n",
       "7       Young Jonn      3\n",
       "8         Omah Lay      2\n",
       "9           Davido      2\n",
       "10         Victony      2\n",
       "11        KAESTYLE      2\n",
       "12           Dremo      1\n",
       "13           nezsa      1\n",
       "14            Tems      1\n",
       "15      Shallipopi      1\n",
       "16          Joeboy      1\n",
       "17  Chandler Moore      1\n",
       "18          Wizkid      1\n",
       "19       Vibez Inc      1\n",
       "20  Duncan Daniels      1\n",
       "21         Eli Jae      1\n",
       "22           Khaid      1\n",
       "23     Fireboy DML      1\n",
       "24    ODUMODUBLVCK      1\n",
       "25          Darkoo      1\n",
       "26   JeffreyBenson      1\n",
       "27      Ayra Starr      1\n",
       "28          Muyeez      1\n",
       "29           TitoM      1\n",
       "30           Jeriq      1\n",
       "31          BoyPee      1\n",
       "32          Vokulz      1\n",
       "33          Iyanya      1\n",
       "34        DJ Tunez      1\n",
       "35        Ayo Maff      1\n",
       "36        Rayvanny      1\n",
       "37          DJ 808      1\n",
       "38          Kenduu      1\n",
       "39         SPINALL      1"
      ]
     },
     "execution_count": 108,
     "metadata": {},
     "output_type": "execute_result"
    }
   ],
   "source": [
    "# Most Popular Artists in Playlist\n",
    "df['artist'].value_counts(ascending=False).reset_index()"
   ]
  },
  {
   "cell_type": "code",
   "execution_count": 109,
   "metadata": {},
   "outputs": [
    {
     "data": {
      "image/png": "[encoded data removed]",
      "text/plain": [
       "<Figure size 1200x400 with 2 Axes>"
      ]
     },
     "metadata": {},
     "output_type": "display_data"
    }
   ],
   "source": [
    "explicit_count = df['explicit'].value_counts()\n",
    "fig, ax = plt.subplots(1,2, figsize=(12,4))\n",
    "sns.countplot(x=df['explicit'], ax=ax[0])\n",
    "ax[0].set_title('Count of Explicit Songs')\n",
    "\n",
    "\n",
    "sns.countplot(x=df['release_year'])\n",
    "ax[1].set_title('Count of Songs by Year');"
   ]
  },
  {
   "cell_type": "markdown",
   "metadata": {},
   "source": [
    "### Top 10 Songs by Popularity"
   ]
  },
  {
   "cell_type": "code",
   "execution_count": 110,
   "metadata": {},
   "outputs": [
    {
     "data": {
      "text/html": [
       "<div>\n",
       "<style scoped>\n",
       "    .dataframe tbody tr th:only-of-type {\n",
       "        vertical-align: middle;\n",
       "    }\n",
       "\n",
       "    .dataframe tbody tr th {\n",
       "        vertical-align: top;\n",
       "    }\n",
       "\n",
       "    .dataframe thead th {\n",
       "        text-align: right;\n",
       "    }\n",
       "</style>\n",
       "<table border=\"1\" class=\"dataframe\">\n",
       "  <thead>\n",
       "    <tr style=\"text-align: right;\">\n",
       "      <th></th>\n",
       "      <th>song_name</th>\n",
       "      <th>artist</th>\n",
       "      <th>popularity</th>\n",
       "    </tr>\n",
       "  </thead>\n",
       "  <tbody>\n",
       "    <tr>\n",
       "      <th>8</th>\n",
       "      <td>Wave</td>\n",
       "      <td>Asake</td>\n",
       "      <td>76</td>\n",
       "    </tr>\n",
       "    <tr>\n",
       "      <th>85</th>\n",
       "      <td>Lonely At The Top</td>\n",
       "      <td>Asake</td>\n",
       "      <td>74</td>\n",
       "    </tr>\n",
       "    <tr>\n",
       "      <th>1</th>\n",
       "      <td>Active</td>\n",
       "      <td>Asake</td>\n",
       "      <td>74</td>\n",
       "    </tr>\n",
       "    <tr>\n",
       "      <th>51</th>\n",
       "      <td>Tshwala Bam (feat. S.N.E) - Remix</td>\n",
       "      <td>TitoM</td>\n",
       "      <td>73</td>\n",
       "    </tr>\n",
       "    <tr>\n",
       "      <th>24</th>\n",
       "      <td>OZEBA</td>\n",
       "      <td>Rema</td>\n",
       "      <td>73</td>\n",
       "    </tr>\n",
       "    <tr>\n",
       "      <th>20</th>\n",
       "      <td>Higher</td>\n",
       "      <td>Burna Boy</td>\n",
       "      <td>73</td>\n",
       "    </tr>\n",
       "    <tr>\n",
       "      <th>99</th>\n",
       "      <td>One Call</td>\n",
       "      <td>SPINALL</td>\n",
       "      <td>72</td>\n",
       "    </tr>\n",
       "    <tr>\n",
       "      <th>38</th>\n",
       "      <td>Dealer</td>\n",
       "      <td>Ayo Maff</td>\n",
       "      <td>71</td>\n",
       "    </tr>\n",
       "    <tr>\n",
       "      <th>31</th>\n",
       "      <td>Metaverse</td>\n",
       "      <td>Olamide</td>\n",
       "      <td>70</td>\n",
       "    </tr>\n",
       "    <tr>\n",
       "      <th>70</th>\n",
       "      <td>KANTE (feat. Fave)</td>\n",
       "      <td>Davido</td>\n",
       "      <td>70</td>\n",
       "    </tr>\n",
       "  </tbody>\n",
       "</table>\n",
       "</div>"
      ],
      "text/plain": [
       "                            song_name     artist  popularity\n",
       "8                                Wave      Asake          76\n",
       "85                  Lonely At The Top      Asake          74\n",
       "1                              Active      Asake          74\n",
       "51  Tshwala Bam (feat. S.N.E) - Remix      TitoM          73\n",
       "24                              OZEBA       Rema          73\n",
       "20                             Higher  Burna Boy          73\n",
       "99                           One Call    SPINALL          72\n",
       "38                             Dealer   Ayo Maff          71\n",
       "31                          Metaverse    Olamide          70\n",
       "70                 KANTE (feat. Fave)     Davido          70"
      ]
     },
     "execution_count": 110,
     "metadata": {},
     "output_type": "execute_result"
    }
   ],
   "source": [
    "df[['song_name','artist','popularity']].sort_values(ascending=False,by='popularity').head(10)"
   ]
  },
  {
   "cell_type": "code",
   "execution_count": 111,
   "metadata": {
    "tags": []
   },
   "outputs": [
    {
     "data": {
      "image/png": "[encoded data removed]",
      "text/plain": [
       "<Figure size 640x480 with 1 Axes>"
      ]
     },
     "metadata": {},
     "output_type": "display_data"
    }
   ],
   "source": [
    "# Average Popularity\n",
    "sns.boxplot(df['popularity'])\n",
    "plt.title('Boxplot of Popularity');"
   ]
  },
  {
   "cell_type": "code",
   "execution_count": 112,
   "metadata": {
    "tags": []
   },
   "outputs": [
    {
     "data": {
      "text/plain": [
       "Index(['song_name', 'artist', 'album', 'artist_id', 'song_id', 'popularity',\n",
       "       'explicit', 'duration', 'key', 'danceability', 'energy', 'loudness',\n",
       "       'mode', 'speechiness', 'acousticness', 'instrumentalness', 'liveness',\n",
       "       'valence', 'tempo', 'release_date', 'release_year'],\n",
       "      dtype='object')"
      ]
     },
     "execution_count": 112,
     "metadata": {},
     "output_type": "execute_result"
    }
   ],
   "source": [
    "df.columns"
   ]
  },
  {
   "cell_type": "code",
   "execution_count": 113,
   "metadata": {
    "tags": []
   },
   "outputs": [],
   "source": [
    "# df.select_dtypes(include=['int','float']).corr()"
   ]
  },
  {
   "cell_type": "code",
   "execution_count": null,
   "metadata": {},
   "outputs": [],
   "source": []
  }
 ],
 "metadata": {
  "kernelspec": {
   "display_name": "Python 3 (ipykernel)",
   "language": "python",
   "name": "python3"
  },
  "language_info": {
   "codemirror_mode": {
    "name": "ipython",
    "version": 3
   },
   "file_extension": ".py",
   "mimetype": "text/x-python",
   "name": "python",
   "nbconvert_exporter": "python",
   "pygments_lexer": "ipython3",
   "version": "3.11.5"
  }
 },
 "nbformat": 4,
 "nbformat_minor": 4
}
